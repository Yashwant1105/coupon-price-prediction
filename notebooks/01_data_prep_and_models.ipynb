{
 "cells": [
  {
   "cell_type": "markdown",
   "id": "b317c446",
   "metadata": {},
   "source": [
    "Importing and Loading Training data"
   ]
  },
  {
   "cell_type": "code",
   "execution_count": 29,
   "id": "2296852d",
   "metadata": {},
   "outputs": [
    {
     "name": "stdout",
     "output_type": "stream",
     "text": [
      "(78369, 5)\n"
     ]
    },
    {
     "data": {
      "text/html": [
       "<div>\n",
       "<style scoped>\n",
       "    .dataframe tbody tr th:only-of-type {\n",
       "        vertical-align: middle;\n",
       "    }\n",
       "\n",
       "    .dataframe tbody tr th {\n",
       "        vertical-align: top;\n",
       "    }\n",
       "\n",
       "    .dataframe thead th {\n",
       "        text-align: right;\n",
       "    }\n",
       "</style>\n",
       "<table border=\"1\" class=\"dataframe\">\n",
       "  <thead>\n",
       "    <tr style=\"text-align: right;\">\n",
       "      <th></th>\n",
       "      <th>id</th>\n",
       "      <th>campaign_id</th>\n",
       "      <th>coupon_id</th>\n",
       "      <th>customer_id</th>\n",
       "      <th>redemption_status</th>\n",
       "    </tr>\n",
       "  </thead>\n",
       "  <tbody>\n",
       "    <tr>\n",
       "      <th>0</th>\n",
       "      <td>1</td>\n",
       "      <td>13</td>\n",
       "      <td>27</td>\n",
       "      <td>1053</td>\n",
       "      <td>0</td>\n",
       "    </tr>\n",
       "    <tr>\n",
       "      <th>1</th>\n",
       "      <td>2</td>\n",
       "      <td>13</td>\n",
       "      <td>116</td>\n",
       "      <td>48</td>\n",
       "      <td>0</td>\n",
       "    </tr>\n",
       "    <tr>\n",
       "      <th>2</th>\n",
       "      <td>6</td>\n",
       "      <td>9</td>\n",
       "      <td>635</td>\n",
       "      <td>205</td>\n",
       "      <td>0</td>\n",
       "    </tr>\n",
       "    <tr>\n",
       "      <th>3</th>\n",
       "      <td>7</td>\n",
       "      <td>13</td>\n",
       "      <td>644</td>\n",
       "      <td>1050</td>\n",
       "      <td>0</td>\n",
       "    </tr>\n",
       "    <tr>\n",
       "      <th>4</th>\n",
       "      <td>9</td>\n",
       "      <td>8</td>\n",
       "      <td>1017</td>\n",
       "      <td>1489</td>\n",
       "      <td>0</td>\n",
       "    </tr>\n",
       "  </tbody>\n",
       "</table>\n",
       "</div>"
      ],
      "text/plain": [
       "   id  campaign_id  coupon_id  customer_id  redemption_status\n",
       "0   1           13         27         1053                  0\n",
       "1   2           13        116           48                  0\n",
       "2   6            9        635          205                  0\n",
       "3   7           13        644         1050                  0\n",
       "4   9            8       1017         1489                  0"
      ]
     },
     "execution_count": 29,
     "metadata": {},
     "output_type": "execute_result"
    }
   ],
   "source": [
    "import pandas as pd\n",
    "from sklearn.model_selection import train_test_split\n",
    "from sklearn.preprocessing import LabelEncoder\n",
    "from sklearn.metrics import roc_auc_score\n",
    "from sklearn.linear_model import LogisticRegression\n",
    "from sklearn.ensemble import RandomForestClassifier\n",
    "import lightgbm as lgb\n",
    "import joblib\n",
    "\n",
    "# Load dataset\n",
    "df = pd.read_csv(\"../data/coupon_data/train.csv\")\n",
    "\n",
    "print(df.shape)\n",
    "df.head()\n"
   ]
  },
  {
   "cell_type": "code",
   "execution_count": 30,
   "id": "07a44fd8",
   "metadata": {},
   "outputs": [
    {
     "name": "stdout",
     "output_type": "stream",
     "text": [
      "<class 'pandas.core.frame.DataFrame'>\n",
      "RangeIndex: 78369 entries, 0 to 78368\n",
      "Data columns (total 5 columns):\n",
      " #   Column             Non-Null Count  Dtype\n",
      "---  ------             --------------  -----\n",
      " 0   id                 78369 non-null  int64\n",
      " 1   campaign_id        78369 non-null  int64\n",
      " 2   coupon_id          78369 non-null  int64\n",
      " 3   customer_id        78369 non-null  int64\n",
      " 4   redemption_status  78369 non-null  int64\n",
      "dtypes: int64(5)\n",
      "memory usage: 3.0 MB\n"
     ]
    },
    {
     "data": {
      "text/html": [
       "<div>\n",
       "<style scoped>\n",
       "    .dataframe tbody tr th:only-of-type {\n",
       "        vertical-align: middle;\n",
       "    }\n",
       "\n",
       "    .dataframe tbody tr th {\n",
       "        vertical-align: top;\n",
       "    }\n",
       "\n",
       "    .dataframe thead th {\n",
       "        text-align: right;\n",
       "    }\n",
       "</style>\n",
       "<table border=\"1\" class=\"dataframe\">\n",
       "  <thead>\n",
       "    <tr style=\"text-align: right;\">\n",
       "      <th></th>\n",
       "      <th>id</th>\n",
       "      <th>campaign_id</th>\n",
       "      <th>coupon_id</th>\n",
       "      <th>customer_id</th>\n",
       "      <th>redemption_status</th>\n",
       "    </tr>\n",
       "  </thead>\n",
       "  <tbody>\n",
       "    <tr>\n",
       "      <th>0</th>\n",
       "      <td>1</td>\n",
       "      <td>13</td>\n",
       "      <td>27</td>\n",
       "      <td>1053</td>\n",
       "      <td>0</td>\n",
       "    </tr>\n",
       "    <tr>\n",
       "      <th>1</th>\n",
       "      <td>2</td>\n",
       "      <td>13</td>\n",
       "      <td>116</td>\n",
       "      <td>48</td>\n",
       "      <td>0</td>\n",
       "    </tr>\n",
       "    <tr>\n",
       "      <th>2</th>\n",
       "      <td>6</td>\n",
       "      <td>9</td>\n",
       "      <td>635</td>\n",
       "      <td>205</td>\n",
       "      <td>0</td>\n",
       "    </tr>\n",
       "    <tr>\n",
       "      <th>3</th>\n",
       "      <td>7</td>\n",
       "      <td>13</td>\n",
       "      <td>644</td>\n",
       "      <td>1050</td>\n",
       "      <td>0</td>\n",
       "    </tr>\n",
       "    <tr>\n",
       "      <th>4</th>\n",
       "      <td>9</td>\n",
       "      <td>8</td>\n",
       "      <td>1017</td>\n",
       "      <td>1489</td>\n",
       "      <td>0</td>\n",
       "    </tr>\n",
       "  </tbody>\n",
       "</table>\n",
       "</div>"
      ],
      "text/plain": [
       "   id  campaign_id  coupon_id  customer_id  redemption_status\n",
       "0   1           13         27         1053                  0\n",
       "1   2           13        116           48                  0\n",
       "2   6            9        635          205                  0\n",
       "3   7           13        644         1050                  0\n",
       "4   9            8       1017         1489                  0"
      ]
     },
     "execution_count": 30,
     "metadata": {},
     "output_type": "execute_result"
    }
   ],
   "source": [
    "df.info()\n",
    "df.head()\n"
   ]
  },
  {
   "cell_type": "markdown",
   "id": "24211857",
   "metadata": {},
   "source": [
    "Data preprocessing"
   ]
  },
  {
   "cell_type": "code",
   "execution_count": 31,
   "id": "7aa8f26d",
   "metadata": {},
   "outputs": [
    {
     "name": "stdout",
     "output_type": "stream",
     "text": [
      "Train shape: (62695, 3) Val shape: (15674, 3)\n"
     ]
    }
   ],
   "source": [
    "from sklearn.model_selection import train_test_split\n",
    "\n",
    "# Features and target\n",
    "X = df.drop(columns=['redemption_status', 'id'])  # drop id since it's just row index\n",
    "y = df['redemption_status']\n",
    "\n",
    "# Train/Validation Split\n",
    "X_train, X_val, y_train, y_val = train_test_split(\n",
    "    X, y, test_size=0.2, random_state=42, stratify=y\n",
    ")\n",
    "\n",
    "print(\"Train shape:\", X_train.shape, \"Val shape:\", X_val.shape)\n"
   ]
  },
  {
   "cell_type": "markdown",
   "id": "db9ce9c6",
   "metadata": {},
   "source": [
    "Model Training with Class Balancing"
   ]
  },
  {
   "cell_type": "code",
   "execution_count": 46,
   "id": "304f12af",
   "metadata": {},
   "outputs": [
    {
     "name": "stdout",
     "output_type": "stream",
     "text": [
      "Training until validation scores don't improve for 30 rounds\n",
      "Early stopping, best iteration is:\n",
      "[259]\tvalid_0's auc: 0.848545\n"
     ]
    }
   ],
   "source": [
    "from sklearn.linear_model import LogisticRegression\n",
    "from sklearn.ensemble import RandomForestClassifier\n",
    "import lightgbm as lgb\n",
    "\n",
    "# 1. Logistic Regression (with class_weight balanced)\n",
    "log_reg_bal = LogisticRegression(max_iter=1000, class_weight=\"balanced\", random_state=42)\n",
    "log_reg_bal.fit(X_train, y_train)\n",
    "\n",
    "# 2. Random Forest (with class_weight balanced)\n",
    "rf_bal = RandomForestClassifier(\n",
    "    n_estimators=200,\n",
    "    random_state=42,\n",
    "    class_weight=\"balanced\"\n",
    ")\n",
    "rf_bal.fit(X_train, y_train)\n",
    "\n",
    "# 3. LightGBM (with is_unbalance=True)\n",
    "train_set = lgb.Dataset(X_train, label=y_train)\n",
    "val_set = lgb.Dataset(X_val, label=y_val, reference=train_set)\n",
    "\n",
    "params_bal = {\n",
    "    \"objective\": \"binary\",\n",
    "    \"metric\": \"auc\",\n",
    "    \"learning_rate\": 0.05,\n",
    "    \"is_unbalance\": True,   # ✅ handle imbalance\n",
    "    \"verbose\": -1\n",
    "}\n",
    "\n",
    "lgb_bal = lgb.train(\n",
    "    params_bal,\n",
    "    train_set,\n",
    "    valid_sets=[val_set],\n",
    "    num_boost_round=500,\n",
    "    callbacks=[lgb.early_stopping(stopping_rounds=30)]\n",
    ")\n",
    "\n"
   ]
  },
  {
   "cell_type": "markdown",
   "id": "f30d2f2f",
   "metadata": {},
   "source": [
    "Evaluation Metrics:"
   ]
  },
  {
   "cell_type": "code",
   "execution_count": 47,
   "id": "26cff2af",
   "metadata": {},
   "outputs": [
    {
     "name": "stdout",
     "output_type": "stream",
     "text": [
      "============================================================\n",
      "🔹 Logistic Regression (Balanced) Evaluation\n",
      "============================================================\n",
      "AUC: 0.5817\n",
      "\n",
      "Classification Report:\n",
      "              precision    recall  f1-score   support\n",
      "\n",
      "           0     0.9922    0.5439    0.7026     15528\n",
      "           1     0.0112    0.5479    0.0219       146\n",
      "\n",
      "    accuracy                         0.5439     15674\n",
      "   macro avg     0.5017    0.5459    0.3622     15674\n",
      "weighted avg     0.9831    0.5439    0.6963     15674\n",
      "\n"
     ]
    },
    {
     "data": {
      "image/png": "[encoded data removed]",
      "text/plain": [
       "<Figure size 640x480 with 2 Axes>"
      ]
     },
     "metadata": {},
     "output_type": "display_data"
    },
    {
     "name": "stdout",
     "output_type": "stream",
     "text": [
      "============================================================\n",
      "🔹 Random Forest (Balanced) Evaluation\n",
      "============================================================\n",
      "AUC: 0.7347\n",
      "\n",
      "Classification Report:\n",
      "              precision    recall  f1-score   support\n",
      "\n",
      "           0     0.9911    0.9992    0.9951     15528\n",
      "           1     0.3333    0.0411    0.0732       146\n",
      "\n",
      "    accuracy                         0.9903     15674\n",
      "   macro avg     0.6622    0.5202    0.5341     15674\n",
      "weighted avg     0.9849    0.9903    0.9865     15674\n",
      "\n"
     ]
    },
    {
     "data": {
      "image/png": "[encoded data removed]",
      "text/plain": [
       "<Figure size 640x480 with 2 Axes>"
      ]
     },
     "metadata": {},
     "output_type": "display_data"
    },
    {
     "name": "stdout",
     "output_type": "stream",
     "text": [
      "============================================================\n",
      "🔹 LightGBM (Balanced) Evaluation\n",
      "============================================================\n",
      "AUC: 0.8485\n",
      "\n",
      "Classification Report:\n",
      "              precision    recall  f1-score   support\n",
      "\n",
      "           0     0.9956    0.8859    0.9376     15528\n",
      "           1     0.0458    0.5822    0.0849       146\n",
      "\n",
      "    accuracy                         0.8831     15674\n",
      "   macro avg     0.5207    0.7341    0.5112     15674\n",
      "weighted avg     0.9867    0.8831    0.9296     15674\n",
      "\n"
     ]
    },
    {
     "data": {
      "image/png": "[encoded data removed]",
      "text/plain": [
       "<Figure size 640x480 with 2 Axes>"
      ]
     },
     "metadata": {},
     "output_type": "display_data"
    }
   ],
   "source": [
    "from sklearn.metrics import classification_report, confusion_matrix, ConfusionMatrixDisplay, roc_auc_score\n",
    "import matplotlib.pyplot as plt\n",
    "\n",
    "models_bal = {\n",
    "    \"Logistic Regression (Balanced)\": log_reg_bal,\n",
    "    \"Random Forest (Balanced)\": rf_bal,\n",
    "    \"LightGBM (Balanced)\": lgb_bal\n",
    "}\n",
    "\n",
    "for name, model in models_bal.items():\n",
    "    print(\"=\"*60)\n",
    "    print(f\"🔹 {name} Evaluation\")\n",
    "    print(\"=\"*60)\n",
    "\n",
    "    # Prediction handling\n",
    "    if \"LightGBM\" in name:\n",
    "        y_pred_proba = model.predict(X_val, num_iteration=model.best_iteration)\n",
    "        y_pred = (y_pred_proba >= 0.5).astype(int)\n",
    "    else:\n",
    "        y_pred_proba = model.predict_proba(X_val)[:, 1]\n",
    "        y_pred = model.predict(X_val)\n",
    "\n",
    "    # AUC\n",
    "    auc = roc_auc_score(y_val, y_pred_proba)\n",
    "    print(f\"AUC: {auc:.4f}\")\n",
    "\n",
    "    # Classification report\n",
    "    print(\"\\nClassification Report:\")\n",
    "    print(classification_report(y_val, y_pred, digits=4, zero_division=0))\n",
    "\n",
    "    # Confusion matrix\n",
    "    cm = confusion_matrix(y_val, y_pred)\n",
    "    disp = ConfusionMatrixDisplay(confusion_matrix=cm)\n",
    "    disp.plot(cmap=\"Blues\")\n",
    "    plt.title(f\"{name} - Confusion Matrix\")\n",
    "    plt.show()\n"
   ]
  },
  {
   "cell_type": "markdown",
   "id": "a883c519",
   "metadata": {},
   "source": [
    "Comparison table"
   ]
  },
  {
   "cell_type": "code",
   "execution_count": 48,
   "id": "542de663",
   "metadata": {},
   "outputs": [
    {
     "name": "stdout",
     "output_type": "stream",
     "text": [
      "                            Model       AUC  Precision    Recall  F1-Score\n",
      "0  Logistic Regression (Balanced)  0.581737   0.011169  0.547945  0.021891\n",
      "1        Random Forest (Balanced)  0.734673   0.333333  0.041096  0.073171\n",
      "2             LightGBM (Balanced)  0.848545   0.045797  0.582192  0.084915\n"
     ]
    }
   ],
   "source": [
    "import pandas as pd\n",
    "from sklearn.metrics import precision_score, recall_score, f1_score, roc_auc_score\n",
    "\n",
    "# Collect results\n",
    "results = []\n",
    "\n",
    "for name, model in models_bal.items():\n",
    "    if \"LightGBM\" in name:\n",
    "        y_pred_proba = model.predict(X_val, num_iteration=model.best_iteration)\n",
    "        y_pred = (y_pred_proba >= 0.5).astype(int)\n",
    "    else:\n",
    "        y_pred_proba = model.predict_proba(X_val)[:, 1]\n",
    "        y_pred = model.predict(X_val)\n",
    "\n",
    "    results.append({\n",
    "        \"Model\": name,\n",
    "        \"AUC\": roc_auc_score(y_val, y_pred_proba),\n",
    "        \"Precision\": precision_score(y_val, y_pred, zero_division=0),\n",
    "        \"Recall\": recall_score(y_val, y_pred, zero_division=0),\n",
    "        \"F1-Score\": f1_score(y_val, y_pred, zero_division=0)\n",
    "    })\n",
    "\n",
    "# Create DataFrame\n",
    "summary_df = pd.DataFrame(results)\n",
    "print(summary_df)\n",
    "\n",
    "# Save to CSV for your repo / presentation\n",
    "summary_df.to_csv(\"model_comparison.csv\", index=False)\n"
   ]
  }
 ],
 "metadata": {
  "kernelspec": {
   "display_name": ".venv",
   "language": "python",
   "name": "python3"
  },
  "language_info": {
   "codemirror_mode": {
    "name": "ipython",
    "version": 3
   },
   "file_extension": ".py",
   "mimetype": "text/x-python",
   "name": "python",
   "nbconvert_exporter": "python",
   "pygments_lexer": "ipython3",
   "version": "3.12.6"
  }
 },
 "nbformat": 4,
 "nbformat_minor": 5
}
